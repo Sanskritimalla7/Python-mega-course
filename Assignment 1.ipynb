{
 "cells": [
  {
   "cell_type": "code",
   "execution_count": 1,
   "id": "8416e496",
   "metadata": {},
   "outputs": [
    {
     "name": "stdout",
     "output_type": "stream",
     "text": [
      "Enter your name:Sanskriti Malla\n"
     ]
    }
   ],
   "source": [
    "name=input(\"Enter your name:\")"
   ]
  },
  {
   "cell_type": "code",
   "execution_count": 2,
   "id": "e88e99b8",
   "metadata": {},
   "outputs": [
    {
     "name": "stdout",
     "output_type": "stream",
     "text": [
      "ENter your roll-no:36\n"
     ]
    }
   ],
   "source": [
    "rollno=input(\"Enter your roll-no:\")"
   ]
  },
  {
   "cell_type": "code",
   "execution_count": 3,
   "id": "522bd1dc",
   "metadata": {},
   "outputs": [
    {
     "name": "stdout",
     "output_type": "stream",
     "text": [
      "your name is:  Sanskriti Malla and roll-no is: 36\n"
     ]
    }
   ],
   "source": [
    "print(\"your name is: \",name+\" and roll-no is:\",rollno)"
   ]
  },
  {
   "cell_type": "code",
   "execution_count": 13,
   "id": "4d9760f9",
   "metadata": {},
   "outputs": [
    {
     "name": "stdout",
     "output_type": "stream",
     "text": [
      "Enter any number:5\n"
     ]
    }
   ],
   "source": [
    "a=input(\"Enter any number:\")"
   ]
  },
  {
   "cell_type": "code",
   "execution_count": 14,
   "id": "c44b3bf6",
   "metadata": {},
   "outputs": [
    {
     "name": "stdout",
     "output_type": "stream",
     "text": [
      "Enter another number:5\n"
     ]
    }
   ],
   "source": [
    "b=input(\"Enter another number:\")"
   ]
  },
  {
   "cell_type": "code",
   "execution_count": 18,
   "id": "4f0f68c6",
   "metadata": {},
   "outputs": [
    {
     "name": "stdout",
     "output_type": "stream",
     "text": [
      "sum is: 10\n"
     ]
    }
   ],
   "source": [
    "print(\"sum is:\",int(a)+int(b))"
   ]
  },
  {
   "cell_type": "code",
   "execution_count": 19,
   "id": "f18032a7",
   "metadata": {},
   "outputs": [
    {
     "name": "stdout",
     "output_type": "stream",
     "text": [
      "Enter any number:20\n"
     ]
    }
   ],
   "source": [
    "x=input(\"Enter any number:\")"
   ]
  },
  {
   "cell_type": "code",
   "execution_count": 20,
   "id": "b5faf504",
   "metadata": {},
   "outputs": [
    {
     "name": "stdout",
     "output_type": "stream",
     "text": [
      "Enter another number20\n"
     ]
    }
   ],
   "source": [
    "y=input(\"Enter another number\")"
   ]
  },
  {
   "cell_type": "code",
   "execution_count": 21,
   "id": "8068bd17",
   "metadata": {},
   "outputs": [
    {
     "name": "stdout",
     "output_type": "stream",
     "text": [
      "Interger part of division of the numer is: 1\n"
     ]
    }
   ],
   "source": [
    "print(\"Interger part of division of the numer is:\", int(x)//int(y))"
   ]
  },
  {
   "cell_type": "code",
   "execution_count": null,
   "id": "f0885b84",
   "metadata": {},
   "outputs": [],
   "source": []
  }
 ],
 "metadata": {
  "kernelspec": {
   "display_name": "Python 3 (ipykernel)",
   "language": "python",
   "name": "python3"
  },
  "language_info": {
   "codemirror_mode": {
    "name": "ipython",
    "version": 3
   },
   "file_extension": ".py",
   "mimetype": "text/x-python",
   "name": "python",
   "nbconvert_exporter": "python",
   "pygments_lexer": "ipython3",
   "version": "3.11.1"
  }
 },
 "nbformat": 4,
 "nbformat_minor": 5
}
