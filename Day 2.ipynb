{
 "cells": [
  {
   "cell_type": "code",
   "execution_count": 1,
   "id": "9fa785a3",
   "metadata": {},
   "outputs": [],
   "source": [
    "x= ('HexCode')"
   ]
  },
  {
   "cell_type": "code",
   "execution_count": 2,
   "id": "e93d4c71",
   "metadata": {},
   "outputs": [],
   "source": [
    "y= ('Nepal')"
   ]
  },
  {
   "cell_type": "code",
   "execution_count": 9,
   "id": "5d138c52",
   "metadata": {},
   "outputs": [],
   "source": [
    "z=x+y\n"
   ]
  },
  {
   "cell_type": "code",
   "execution_count": 4,
   "id": "4ba2e522",
   "metadata": {},
   "outputs": [
    {
     "name": "stdout",
     "output_type": "stream",
     "text": [
      "HexCodeNepal\n"
     ]
    }
   ],
   "source": [
    "print(z)"
   ]
  },
  {
   "cell_type": "code",
   "execution_count": 1,
   "id": "a74f21d0",
   "metadata": {},
   "outputs": [
    {
     "name": "stdout",
     "output_type": "stream",
     "text": [
      "Enter your first Name:Sanskriti\n",
      "Enter your Last Name:Malla\n"
     ]
    }
   ],
   "source": [
    "x =input('Enter your first Name:')\n",
    "y =input('Enter your Last Name:')"
   ]
  },
  {
   "cell_type": "code",
   "execution_count": 3,
   "id": "8e561043",
   "metadata": {},
   "outputs": [
    {
     "name": "stdout",
     "output_type": "stream",
     "text": [
      "your name is SanskritiMalla\n"
     ]
    }
   ],
   "source": [
    "print('your name is '+x+''+ y)"
   ]
  },
  {
   "cell_type": "code",
   "execution_count": 1,
   "id": "6f689368",
   "metadata": {},
   "outputs": [
    {
     "name": "stdout",
     "output_type": "stream",
     "text": [
      "Enter first number:3\n",
      "Enter second number:5\n"
     ]
    }
   ],
   "source": [
    "x =input('Enter first number:')\n",
    "y =input('Enter second number:')"
   ]
  },
  {
   "cell_type": "code",
   "execution_count": 2,
   "id": "92efeccd",
   "metadata": {},
   "outputs": [
    {
     "name": "stdout",
     "output_type": "stream",
     "text": [
      "sum is: 8\n"
     ]
    }
   ],
   "source": [
    "print('sum is:', int(x)+int(y))"
   ]
  },
  {
   "cell_type": "code",
   "execution_count": 4,
   "id": "5102632d",
   "metadata": {},
   "outputs": [
    {
     "name": "stdout",
     "output_type": "stream",
     "text": [
      "Enter first number:33\n",
      "Enter second number:34\n"
     ]
    }
   ],
   "source": [
    "x = float(input('Enter first number:'))\n",
    "y = float(input('Enter second number:'))"
   ]
  },
  {
   "cell_type": "code",
   "execution_count": 5,
   "id": "6e12e574",
   "metadata": {},
   "outputs": [],
   "source": [
    "z=x-y"
   ]
  },
  {
   "cell_type": "code",
   "execution_count": 6,
   "id": "50e60e43",
   "metadata": {},
   "outputs": [
    {
     "name": "stdout",
     "output_type": "stream",
     "text": [
      "-1.0\n"
     ]
    }
   ],
   "source": [
    "print(z)"
   ]
  },
  {
   "cell_type": "code",
   "execution_count": 7,
   "id": "a9d6a323",
   "metadata": {},
   "outputs": [
    {
     "name": "stdout",
     "output_type": "stream",
     "text": [
      "Enter first number3\n",
      "Enter second number4\n"
     ]
    }
   ],
   "source": [
    "x =float(input('Enter first number'))\n",
    "y =float(input('Enter second number'))"
   ]
  },
  {
   "cell_type": "code",
   "execution_count": 8,
   "id": "a3223f68",
   "metadata": {},
   "outputs": [],
   "source": [
    "z=x*y"
   ]
  },
  {
   "cell_type": "code",
   "execution_count": 11,
   "id": "48643392",
   "metadata": {},
   "outputs": [
    {
     "name": "stdout",
     "output_type": "stream",
     "text": [
      "The product is sum  12.0\n"
     ]
    }
   ],
   "source": [
    "print('The product is sum ',z)"
   ]
  },
  {
   "cell_type": "code",
   "execution_count": 12,
   "id": "2c0c2eb8",
   "metadata": {},
   "outputs": [
    {
     "data": {
      "text/plain": [
       "81.0"
      ]
     },
     "execution_count": 12,
     "metadata": {},
     "output_type": "execute_result"
    }
   ],
   "source": [
    "x**y"
   ]
  },
  {
   "cell_type": "code",
   "execution_count": null,
   "id": "408a199b",
   "metadata": {},
   "outputs": [],
   "source": []
  }
 ],
 "metadata": {
  "kernelspec": {
   "display_name": "Python 3 (ipykernel)",
   "language": "python",
   "name": "python3"
  },
  "language_info": {
   "codemirror_mode": {
    "name": "ipython",
    "version": 3
   },
   "file_extension": ".py",
   "mimetype": "text/x-python",
   "name": "python",
   "nbconvert_exporter": "python",
   "pygments_lexer": "ipython3",
   "version": "3.11.1"
  }
 },
 "nbformat": 4,
 "nbformat_minor": 5
}
