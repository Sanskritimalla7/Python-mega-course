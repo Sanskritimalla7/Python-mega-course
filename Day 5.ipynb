{
 "cells": [
  {
   "cell_type": "markdown",
   "id": "be75ff5f",
   "metadata": {},
   "source": [
    "# Tuples \n"
   ]
  },
  {
   "cell_type": "code",
   "execution_count": 12,
   "id": "6353c5a3",
   "metadata": {},
   "outputs": [],
   "source": [
    "x =('sans', 'apple', 'grapes','sans', 'apple', 'sabina')"
   ]
  },
  {
   "cell_type": "code",
   "execution_count": 13,
   "id": "fdf988d0",
   "metadata": {},
   "outputs": [
    {
     "data": {
      "text/plain": [
       "('sans', 'apple', 'grapes', 'sans', 'apple', 'sabina')"
      ]
     },
     "execution_count": 13,
     "metadata": {},
     "output_type": "execute_result"
    }
   ],
   "source": [
    "x #yesma duplicate items allow cha "
   ]
  },
  {
   "cell_type": "code",
   "execution_count": 14,
   "id": "6c6b668e",
   "metadata": {},
   "outputs": [
    {
     "data": {
      "text/plain": [
       "6"
      ]
     },
     "execution_count": 14,
     "metadata": {},
     "output_type": "execute_result"
    }
   ],
   "source": [
    "len(x)"
   ]
  },
  {
   "cell_type": "code",
   "execution_count": 15,
   "id": "57c3251f",
   "metadata": {},
   "outputs": [
    {
     "data": {
      "text/plain": [
       "'grapes'"
      ]
     },
     "execution_count": 15,
     "metadata": {},
     "output_type": "execute_result"
    }
   ],
   "source": [
    "x[2] #row ko item lai count garera value nikalana milcha "
   ]
  },
  {
   "cell_type": "code",
   "execution_count": 17,
   "id": "8c8f75d9",
   "metadata": {},
   "outputs": [
    {
     "data": {
      "text/plain": [
       "('grapes', 'sans', 'apple')"
      ]
     },
     "execution_count": 17,
     "metadata": {},
     "output_type": "execute_result"
    }
   ],
   "source": [
    "x[2:5]"
   ]
  },
  {
   "cell_type": "code",
   "execution_count": 18,
   "id": "9a754dcd",
   "metadata": {},
   "outputs": [],
   "source": [
    "y=list(x)"
   ]
  },
  {
   "cell_type": "code",
   "execution_count": 19,
   "id": "ae9d62a3",
   "metadata": {},
   "outputs": [
    {
     "data": {
      "text/plain": [
       "['sans', 'apple', 'grapes', 'sans', 'apple', 'sabina']"
      ]
     },
     "execution_count": 19,
     "metadata": {},
     "output_type": "execute_result"
    }
   ],
   "source": [
    "y"
   ]
  },
  {
   "cell_type": "code",
   "execution_count": 20,
   "id": "350ac030",
   "metadata": {},
   "outputs": [],
   "source": [
    "y[2]='grape'"
   ]
  },
  {
   "cell_type": "code",
   "execution_count": 21,
   "id": "581045e4",
   "metadata": {},
   "outputs": [
    {
     "data": {
      "text/plain": [
       "['sans', 'apple', 'grape', 'sans', 'apple', 'sabina']"
      ]
     },
     "execution_count": 21,
     "metadata": {},
     "output_type": "execute_result"
    }
   ],
   "source": [
    "y"
   ]
  },
  {
   "cell_type": "code",
   "execution_count": 23,
   "id": "b0a0a785",
   "metadata": {},
   "outputs": [],
   "source": [
    "y.remove('apple')"
   ]
  },
  {
   "cell_type": "code",
   "execution_count": 24,
   "id": "79067a09",
   "metadata": {},
   "outputs": [
    {
     "data": {
      "text/plain": [
       "['sans', 'grape', 'sans', 'apple', 'sabina']"
      ]
     },
     "execution_count": 24,
     "metadata": {},
     "output_type": "execute_result"
    }
   ],
   "source": [
    "y"
   ]
  },
  {
   "cell_type": "code",
   "execution_count": 25,
   "id": "a79cc8f7",
   "metadata": {},
   "outputs": [],
   "source": [
    "x=tuple(y)"
   ]
  },
  {
   "cell_type": "code",
   "execution_count": 27,
   "id": "f46fcc8b",
   "metadata": {},
   "outputs": [
    {
     "data": {
      "text/plain": [
       "('sans', 'grape', 'sans', 'apple', 'sabina')"
      ]
     },
     "execution_count": 27,
     "metadata": {},
     "output_type": "execute_result"
    }
   ],
   "source": [
    "x #again changed the value after changing the list "
   ]
  },
  {
   "cell_type": "code",
   "execution_count": 28,
   "id": "8dd89034",
   "metadata": {},
   "outputs": [],
   "source": [
    "z=('Sanskriti',)"
   ]
  },
  {
   "cell_type": "code",
   "execution_count": 29,
   "id": "8c2e3bba",
   "metadata": {},
   "outputs": [
    {
     "data": {
      "text/plain": [
       "tuple"
      ]
     },
     "execution_count": 29,
     "metadata": {},
     "output_type": "execute_result"
    }
   ],
   "source": [
    "type(z)"
   ]
  },
  {
   "cell_type": "markdown",
   "id": "a8f0d0ad",
   "metadata": {},
   "source": [
    "\n",
    "# Set\n"
   ]
  },
  {
   "cell_type": "code",
   "execution_count": 30,
   "id": "e8b84011",
   "metadata": {},
   "outputs": [],
   "source": [
    "s1={1,2,3,4,5,6,7,8,9}"
   ]
  },
  {
   "cell_type": "code",
   "execution_count": 32,
   "id": "0b3c443e",
   "metadata": {},
   "outputs": [
    {
     "data": {
      "text/plain": [
       "set"
      ]
     },
     "execution_count": 32,
     "metadata": {},
     "output_type": "execute_result"
    }
   ],
   "source": [
    "type(s1)"
   ]
  },
  {
   "cell_type": "code",
   "execution_count": 36,
   "id": "f1f46761",
   "metadata": {},
   "outputs": [],
   "source": [
    "s2={1,2,2,3,4,5,6,6,6,7,8,8,8,8,8,} #set doesnot allow the duplicate value "
   ]
  },
  {
   "cell_type": "code",
   "execution_count": 35,
   "id": "c55800d3",
   "metadata": {},
   "outputs": [
    {
     "data": {
      "text/plain": [
       "{1, 2, 3, 4, 5, 6, 7, 8}"
      ]
     },
     "execution_count": 35,
     "metadata": {},
     "output_type": "execute_result"
    }
   ],
   "source": [
    "s2"
   ]
  },
  {
   "cell_type": "code",
   "execution_count": 37,
   "id": "90262362",
   "metadata": {},
   "outputs": [
    {
     "data": {
      "text/plain": [
       "8"
      ]
     },
     "execution_count": 37,
     "metadata": {},
     "output_type": "execute_result"
    }
   ],
   "source": [
    "len(s2)"
   ]
  },
  {
   "cell_type": "code",
   "execution_count": 40,
   "id": "44479102",
   "metadata": {},
   "outputs": [],
   "source": [
    "s2.add('9') #adding the elements"
   ]
  },
  {
   "cell_type": "code",
   "execution_count": 41,
   "id": "adf03a90",
   "metadata": {},
   "outputs": [
    {
     "data": {
      "text/plain": [
       "{1, 2, 3, 4, 5, 6, 7, 8, '9'}"
      ]
     },
     "execution_count": 41,
     "metadata": {},
     "output_type": "execute_result"
    }
   ],
   "source": [
    "s2"
   ]
  },
  {
   "cell_type": "code",
   "execution_count": 52,
   "id": "a9e8c2b9",
   "metadata": {},
   "outputs": [],
   "source": [
    "s2.remove(5)"
   ]
  },
  {
   "cell_type": "code",
   "execution_count": 53,
   "id": "4b13cb27",
   "metadata": {},
   "outputs": [
    {
     "data": {
      "text/plain": [
       "{1, 2, 3, 4, 7, 8, '9'}"
      ]
     },
     "execution_count": 53,
     "metadata": {},
     "output_type": "execute_result"
    }
   ],
   "source": [
    "s2"
   ]
  },
  {
   "cell_type": "code",
   "execution_count": 55,
   "id": "0746bdae",
   "metadata": {},
   "outputs": [
    {
     "name": "stdout",
     "output_type": "stream",
     "text": [
      "1\n",
      "2\n",
      "3\n",
      "4\n",
      "7\n",
      "8\n",
      "9\n"
     ]
    }
   ],
   "source": [
    "for i in s2:\n",
    "    print(i)"
   ]
  },
  {
   "cell_type": "code",
   "execution_count": 58,
   "id": "751786a5",
   "metadata": {},
   "outputs": [],
   "source": [
    "s3=list(s2)"
   ]
  },
  {
   "cell_type": "code",
   "execution_count": 59,
   "id": "2943bfbe",
   "metadata": {},
   "outputs": [],
   "source": [
    "s3[6]='hello world'"
   ]
  },
  {
   "cell_type": "code",
   "execution_count": 60,
   "id": "4d9ba5c8",
   "metadata": {},
   "outputs": [
    {
     "data": {
      "text/plain": [
       "[1, 2, 3, 4, 7, 8, 'hello world']"
      ]
     },
     "execution_count": 60,
     "metadata": {},
     "output_type": "execute_result"
    }
   ],
   "source": [
    "s3"
   ]
  },
  {
   "cell_type": "code",
   "execution_count": 61,
   "id": "5343f985",
   "metadata": {},
   "outputs": [],
   "source": [
    "s2=set(s3)"
   ]
  },
  {
   "cell_type": "code",
   "execution_count": 62,
   "id": "12bac411",
   "metadata": {},
   "outputs": [
    {
     "data": {
      "text/plain": [
       "{1, 2, 3, 4, 7, 8, 'hello world'}"
      ]
     },
     "execution_count": 62,
     "metadata": {},
     "output_type": "execute_result"
    }
   ],
   "source": [
    "s2"
   ]
  },
  {
   "cell_type": "markdown",
   "id": "ecc2f1ce",
   "metadata": {},
   "source": [
    "# if Else Statement"
   ]
  },
  {
   "cell_type": "code",
   "execution_count": 1,
   "id": "bae4117b",
   "metadata": {},
   "outputs": [
    {
     "name": "stdout",
     "output_type": "stream",
     "text": [
      "Enter any number:35.2\n"
     ]
    }
   ],
   "source": [
    "x=float(input ('Enter any number:'))"
   ]
  },
  {
   "cell_type": "code",
   "execution_count": 2,
   "id": "8cc00001",
   "metadata": {},
   "outputs": [
    {
     "name": "stdout",
     "output_type": "stream",
     "text": [
      "Number is Odd\n"
     ]
    }
   ],
   "source": [
    "if x%2==0:\n",
    "    print('Number is Even')\n",
    "else: \n",
    "    print('Number is Odd')"
   ]
  },
  {
   "cell_type": "code",
   "execution_count": 3,
   "id": "79e67acf",
   "metadata": {},
   "outputs": [
    {
     "name": "stdout",
     "output_type": "stream",
     "text": [
      "Number is Odd\n"
     ]
    }
   ],
   "source": [
    "if x%2==0:\n",
    "    print('Number is Even')\n",
    "elif x%2!=0:\n",
    "        print('Number is Odd')\n",
    "else: \n",
    "    print('Enter interger')"
   ]
  },
  {
   "cell_type": "code",
   "execution_count": 4,
   "id": "93451a5a",
   "metadata": {},
   "outputs": [
    {
     "name": "stdout",
     "output_type": "stream",
     "text": [
      "Enter interger\n"
     ]
    }
   ],
   "source": [
    "if x%2==0:\n",
    "    print('Number is Even')\n",
    "elif x%2==1:\n",
    "        print('Number is Odd')\n",
    "else: \n",
    "    print('Enter interger')"
   ]
  },
  {
   "cell_type": "code",
   "execution_count": 5,
   "id": "ed6a14ae",
   "metadata": {},
   "outputs": [],
   "source": [
    "#Excercise:\n",
    "  #  1) Take marks as input from users\n",
    "  #  2.Classify the division using following reference \n",
    "  #     i. Marks greater then equal to 80 distinction\n",
    "  #    ii. greater equal to 60 and less the 80 first division\n",
    "  #   iii. greater equal to 40 and less than 60 second division \n",
    "  #    iv. less than 40 fail\n",
    "  #     v. Else invalid marks"
   ]
  },
  {
   "cell_type": "code",
   "execution_count": 9,
   "id": "30ad003d",
   "metadata": {},
   "outputs": [
    {
     "name": "stdout",
     "output_type": "stream",
     "text": [
      "Enter your marks67.5\n"
     ]
    }
   ],
   "source": [
    "marks=float(input('Enter your marks'))"
   ]
  },
  {
   "cell_type": "code",
   "execution_count": 10,
   "id": "a5c962e3",
   "metadata": {},
   "outputs": [
    {
     "name": "stdout",
     "output_type": "stream",
     "text": [
      "First Division\n"
     ]
    }
   ],
   "source": [
    "if marks>80 and marks<=100:\n",
    "    print('Distinction')\n",
    "elif  marks>=60:\n",
    "    print('First Division')\n",
    "elif marks>=40:\n",
    "    print('Second Divison')\n",
    "elif marks>=0:\n",
    "    print('Fail')\n",
    "else:\n",
    "    print('Enter valid marks')"
   ]
  },
  {
   "cell_type": "code",
   "execution_count": null,
   "id": "ca4605d3",
   "metadata": {},
   "outputs": [],
   "source": []
  }
 ],
 "metadata": {
  "kernelspec": {
   "display_name": "Python 3 (ipykernel)",
   "language": "python",
   "name": "python3"
  },
  "language_info": {
   "codemirror_mode": {
    "name": "ipython",
    "version": 3
   },
   "file_extension": ".py",
   "mimetype": "text/x-python",
   "name": "python",
   "nbconvert_exporter": "python",
   "pygments_lexer": "ipython3",
   "version": "3.11.1"
  }
 },
 "nbformat": 4,
 "nbformat_minor": 5
}
