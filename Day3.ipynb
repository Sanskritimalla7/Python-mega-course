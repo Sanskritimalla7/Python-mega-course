{
 "cells": [
  {
   "cell_type": "markdown",
   "id": "7b2d8a0e",
   "metadata": {},
   "source": [
    "# operators"
   ]
  },
  {
   "cell_type": "markdown",
   "id": "a4998241",
   "metadata": {},
   "source": [
    "Arithmetic Operators"
   ]
  },
  {
   "cell_type": "code",
   "execution_count": 3,
   "id": "976acb6e",
   "metadata": {},
   "outputs": [
    {
     "name": "stdout",
     "output_type": "stream",
     "text": [
      "Enter your first number:45\n",
      "Enter your second number:78\n"
     ]
    }
   ],
   "source": [
    "x =float(input('Enter your first number:'))\n",
    "y =float(input('Enter your second number:'))"
   ]
  },
  {
   "cell_type": "code",
   "execution_count": 4,
   "id": "b8bf7c44",
   "metadata": {},
   "outputs": [],
   "source": [
    "z =x+y"
   ]
  },
  {
   "cell_type": "code",
   "execution_count": 5,
   "id": "df514ed2",
   "metadata": {},
   "outputs": [
    {
     "name": "stdout",
     "output_type": "stream",
     "text": [
      "123.0\n"
     ]
    }
   ],
   "source": [
    "print(z)"
   ]
  },
  {
   "cell_type": "code",
   "execution_count": 6,
   "id": "63614859",
   "metadata": {},
   "outputs": [
    {
     "name": "stdout",
     "output_type": "stream",
     "text": [
      "Enter your first number:45\n",
      "Enter yout first number:78\n"
     ]
    }
   ],
   "source": [
    "x =float(input('Enter your first number:'))\n",
    "y =float(input('Enter yout first number:'))"
   ]
  },
  {
   "cell_type": "code",
   "execution_count": 7,
   "id": "6bd76c63",
   "metadata": {},
   "outputs": [],
   "source": [
    "z =x-y"
   ]
  },
  {
   "cell_type": "code",
   "execution_count": 8,
   "id": "83bd7365",
   "metadata": {},
   "outputs": [
    {
     "name": "stdout",
     "output_type": "stream",
     "text": [
      "-33.0\n"
     ]
    }
   ],
   "source": [
    "print(z)"
   ]
  },
  {
   "cell_type": "code",
   "execution_count": 9,
   "id": "b0395e26",
   "metadata": {},
   "outputs": [
    {
     "name": "stdout",
     "output_type": "stream",
     "text": [
      "Enter your first number:45\n",
      "Enter yout first number:78\n"
     ]
    }
   ],
   "source": [
    "x =float(input('Enter your first number:'))\n",
    "y =float(input('Enter yout first number:'))"
   ]
  },
  {
   "cell_type": "code",
   "execution_count": 10,
   "id": "c3b78fd3",
   "metadata": {},
   "outputs": [],
   "source": [
    "z =x*y"
   ]
  },
  {
   "cell_type": "code",
   "execution_count": 11,
   "id": "fef16f6e",
   "metadata": {},
   "outputs": [
    {
     "name": "stdout",
     "output_type": "stream",
     "text": [
      "3510.0\n"
     ]
    }
   ],
   "source": [
    "print(z)"
   ]
  },
  {
   "cell_type": "code",
   "execution_count": 12,
   "id": "2f9de073",
   "metadata": {},
   "outputs": [
    {
     "name": "stdout",
     "output_type": "stream",
     "text": [
      "Enter your first number:45\n",
      "Enter yout first number:78\n"
     ]
    }
   ],
   "source": [
    "x =float(input('Enter your first number:'))\n",
    "y =float(input('Enter yout first number:'))"
   ]
  },
  {
   "cell_type": "code",
   "execution_count": 13,
   "id": "5973bdbf",
   "metadata": {},
   "outputs": [],
   "source": [
    "z =x/y"
   ]
  },
  {
   "cell_type": "code",
   "execution_count": 14,
   "id": "b136aa32",
   "metadata": {},
   "outputs": [
    {
     "name": "stdout",
     "output_type": "stream",
     "text": [
      "0.5769230769230769\n"
     ]
    }
   ],
   "source": [
    "print(z)"
   ]
  },
  {
   "cell_type": "code",
   "execution_count": 15,
   "id": "d6578ec4",
   "metadata": {},
   "outputs": [
    {
     "name": "stdout",
     "output_type": "stream",
     "text": [
      "Enter your first number:45\n",
      "Enter yout first number:78\n"
     ]
    }
   ],
   "source": [
    "x =float(input('Enter your first number:'))\n",
    "y =float(input('Enter yout first number:'))"
   ]
  },
  {
   "cell_type": "code",
   "execution_count": 16,
   "id": "3066cab1",
   "metadata": {},
   "outputs": [],
   "source": [
    "z =x**y"
   ]
  },
  {
   "cell_type": "code",
   "execution_count": 17,
   "id": "40474a19",
   "metadata": {},
   "outputs": [
    {
     "name": "stdout",
     "output_type": "stream",
     "text": [
      "8.924339317248996e+128\n"
     ]
    }
   ],
   "source": [
    "print(z)"
   ]
  },
  {
   "cell_type": "code",
   "execution_count": null,
   "id": "0590b4a5",
   "metadata": {},
   "outputs": [],
   "source": [
    "x =float(input('Enter your first number:'))\n",
    "y =float(input('Enter yout first number:'))"
   ]
  },
  {
   "cell_type": "code",
   "execution_count": 31,
   "id": "4aecdc3d",
   "metadata": {},
   "outputs": [],
   "source": [
    "z =x//y"
   ]
  },
  {
   "cell_type": "code",
   "execution_count": 32,
   "id": "65d6ef57",
   "metadata": {},
   "outputs": [
    {
     "name": "stdout",
     "output_type": "stream",
     "text": [
      "0.0\n"
     ]
    }
   ],
   "source": [
    "print(z)"
   ]
  },
  {
   "cell_type": "code",
   "execution_count": 27,
   "id": "28ceaacb",
   "metadata": {},
   "outputs": [
    {
     "name": "stdout",
     "output_type": "stream",
     "text": [
      "Enter your first number:45\n",
      "Enter yout first number:78\n"
     ]
    }
   ],
   "source": [
    "x =float(input('Enter your first number:'))\n",
    "y =float(input('Enter yout first number:'))"
   ]
  },
  {
   "cell_type": "code",
   "execution_count": 28,
   "id": "a0562138",
   "metadata": {},
   "outputs": [],
   "source": [
    "z =x%y"
   ]
  },
  {
   "cell_type": "code",
   "execution_count": 29,
   "id": "fd290d97",
   "metadata": {},
   "outputs": [
    {
     "name": "stdout",
     "output_type": "stream",
     "text": [
      "45.0\n"
     ]
    }
   ],
   "source": [
    "print(z)"
   ]
  },
  {
   "cell_type": "markdown",
   "id": "15d3e0d5",
   "metadata": {},
   "source": [
    "# Assignment operators"
   ]
  },
  {
   "cell_type": "code",
   "execution_count": 51,
   "id": "37416515",
   "metadata": {},
   "outputs": [
    {
     "name": "stdout",
     "output_type": "stream",
     "text": [
      "Enter the number:5\n"
     ]
    }
   ],
   "source": [
    "f=int(input('Enter the number:'))"
   ]
  },
  {
   "cell_type": "code",
   "execution_count": 52,
   "id": "f8e81d2f",
   "metadata": {},
   "outputs": [],
   "source": [
    "f+=4"
   ]
  },
  {
   "cell_type": "code",
   "execution_count": 53,
   "id": "f49f97c9",
   "metadata": {},
   "outputs": [
    {
     "data": {
      "text/plain": [
       "9"
      ]
     },
     "execution_count": 53,
     "metadata": {},
     "output_type": "execute_result"
    }
   ],
   "source": [
    "f"
   ]
  },
  {
   "cell_type": "code",
   "execution_count": 66,
   "id": "72efc3c3",
   "metadata": {},
   "outputs": [],
   "source": [
    "f*=10"
   ]
  },
  {
   "cell_type": "code",
   "execution_count": 67,
   "id": "78120290",
   "metadata": {},
   "outputs": [
    {
     "data": {
      "text/plain": [
       "1.44"
      ]
     },
     "execution_count": 67,
     "metadata": {},
     "output_type": "execute_result"
    }
   ],
   "source": [
    "f"
   ]
  },
  {
   "cell_type": "code",
   "execution_count": 68,
   "id": "05d194dd",
   "metadata": {},
   "outputs": [],
   "source": [
    "f**=10"
   ]
  },
  {
   "cell_type": "code",
   "execution_count": 69,
   "id": "c8431a6c",
   "metadata": {},
   "outputs": [
    {
     "data": {
      "text/plain": [
       "38.33759992447474"
      ]
     },
     "execution_count": 69,
     "metadata": {},
     "output_type": "execute_result"
    }
   ],
   "source": [
    "f"
   ]
  },
  {
   "cell_type": "code",
   "execution_count": 70,
   "id": "51f7644c",
   "metadata": {},
   "outputs": [],
   "source": [
    "f//=10"
   ]
  },
  {
   "cell_type": "code",
   "execution_count": 71,
   "id": "82fdbf67",
   "metadata": {},
   "outputs": [
    {
     "data": {
      "text/plain": [
       "3.0"
      ]
     },
     "execution_count": 71,
     "metadata": {},
     "output_type": "execute_result"
    }
   ],
   "source": [
    "f"
   ]
  },
  {
   "cell_type": "code",
   "execution_count": 72,
   "id": "335acee8",
   "metadata": {},
   "outputs": [],
   "source": [
    "f-=10"
   ]
  },
  {
   "cell_type": "code",
   "execution_count": 73,
   "id": "912b14e3",
   "metadata": {},
   "outputs": [
    {
     "data": {
      "text/plain": [
       "-7.0"
      ]
     },
     "execution_count": 73,
     "metadata": {},
     "output_type": "execute_result"
    }
   ],
   "source": [
    "f"
   ]
  },
  {
   "cell_type": "markdown",
   "id": "b2da5721",
   "metadata": {},
   "source": [
    "#  comparison Operators"
   ]
  },
  {
   "cell_type": "code",
   "execution_count": 74,
   "id": "9665e8be",
   "metadata": {},
   "outputs": [
    {
     "name": "stdout",
     "output_type": "stream",
     "text": [
      "Enter your first number:39\n",
      "Enter yout first number:24\n"
     ]
    }
   ],
   "source": [
    "a =float(input('Enter your first number:'))\n",
    "b =float(input('Enter yout first number:'))"
   ]
  },
  {
   "cell_type": "code",
   "execution_count": 75,
   "id": "f4cc3a97",
   "metadata": {},
   "outputs": [
    {
     "data": {
      "text/plain": [
       "False"
      ]
     },
     "execution_count": 75,
     "metadata": {},
     "output_type": "execute_result"
    }
   ],
   "source": [
    "a==b #equals too"
   ]
  },
  {
   "cell_type": "code",
   "execution_count": 76,
   "id": "185c9bfd",
   "metadata": {},
   "outputs": [
    {
     "data": {
      "text/plain": [
       "True"
      ]
     },
     "execution_count": 76,
     "metadata": {},
     "output_type": "execute_result"
    }
   ],
   "source": [
    "a>b #a greater than b"
   ]
  },
  {
   "cell_type": "code",
   "execution_count": 77,
   "id": "19eb1286",
   "metadata": {},
   "outputs": [
    {
     "data": {
      "text/plain": [
       "False"
      ]
     },
     "execution_count": 77,
     "metadata": {},
     "output_type": "execute_result"
    }
   ],
   "source": [
    "a<b # a less than b "
   ]
  },
  {
   "cell_type": "code",
   "execution_count": 78,
   "id": "757dc061",
   "metadata": {},
   "outputs": [
    {
     "data": {
      "text/plain": [
       "True"
      ]
     },
     "execution_count": 78,
     "metadata": {},
     "output_type": "execute_result"
    }
   ],
   "source": [
    "a!=b #Not equals too"
   ]
  },
  {
   "cell_type": "code",
   "execution_count": 79,
   "id": "cfe48b3b",
   "metadata": {},
   "outputs": [
    {
     "data": {
      "text/plain": [
       "True"
      ]
     },
     "execution_count": 79,
     "metadata": {},
     "output_type": "execute_result"
    }
   ],
   "source": [
    "a>=b # greater equals to"
   ]
  },
  {
   "cell_type": "code",
   "execution_count": 80,
   "id": "bd3e91ce",
   "metadata": {},
   "outputs": [
    {
     "data": {
      "text/plain": [
       "False"
      ]
     },
     "execution_count": 80,
     "metadata": {},
     "output_type": "execute_result"
    }
   ],
   "source": [
    "a<=b #less equals to"
   ]
  },
  {
   "cell_type": "code",
   "execution_count": 81,
   "id": "e8d356ef",
   "metadata": {},
   "outputs": [
    {
     "data": {
      "text/plain": [
       "False"
      ]
     },
     "execution_count": 81,
     "metadata": {},
     "output_type": "execute_result"
    }
   ],
   "source": [
    "b>a"
   ]
  },
  {
   "cell_type": "code",
   "execution_count": 82,
   "id": "e0c772ef",
   "metadata": {},
   "outputs": [
    {
     "data": {
      "text/plain": [
       "True"
      ]
     },
     "execution_count": 82,
     "metadata": {},
     "output_type": "execute_result"
    }
   ],
   "source": [
    "b<a"
   ]
  },
  {
   "cell_type": "code",
   "execution_count": 83,
   "id": "5e1f2f65",
   "metadata": {},
   "outputs": [
    {
     "data": {
      "text/plain": [
       "True"
      ]
     },
     "execution_count": 83,
     "metadata": {},
     "output_type": "execute_result"
    }
   ],
   "source": [
    "b!=a"
   ]
  },
  {
   "cell_type": "markdown",
   "id": "0a0ab54e",
   "metadata": {},
   "source": [
    "Logical Operators\n"
   ]
  },
  {
   "cell_type": "code",
   "execution_count": 86,
   "id": "be0a7b93",
   "metadata": {},
   "outputs": [
    {
     "data": {
      "text/plain": [
       "False"
      ]
     },
     "execution_count": 86,
     "metadata": {},
     "output_type": "execute_result"
    }
   ],
   "source": [
    "2<3 and 1<0 # and operators "
   ]
  },
  {
   "cell_type": "code",
   "execution_count": 87,
   "id": "19b2e156",
   "metadata": {},
   "outputs": [
    {
     "data": {
      "text/plain": [
       "True"
      ]
     },
     "execution_count": 87,
     "metadata": {},
     "output_type": "execute_result"
    }
   ],
   "source": [
    "2<3 or 1<0 #or operators"
   ]
  },
  {
   "cell_type": "code",
   "execution_count": 88,
   "id": "ee1f304b",
   "metadata": {},
   "outputs": [
    {
     "data": {
      "text/plain": [
       "True"
      ]
     },
     "execution_count": 88,
     "metadata": {},
     "output_type": "execute_result"
    }
   ],
   "source": [
    "not(2<3 and 1<0)"
   ]
  },
  {
   "cell_type": "code",
   "execution_count": 89,
   "id": "aa8a2f1c",
   "metadata": {},
   "outputs": [
    {
     "data": {
      "text/plain": [
       "False"
      ]
     },
     "execution_count": 89,
     "metadata": {},
     "output_type": "execute_result"
    }
   ],
   "source": [
    "not(2<3 or 1<0)"
   ]
  },
  {
   "cell_type": "markdown",
   "id": "c4f15902",
   "metadata": {},
   "source": [
    "# Datatypes"
   ]
  },
  {
   "cell_type": "markdown",
   "id": "c23280ce",
   "metadata": {},
   "source": [
    "String"
   ]
  },
  {
   "cell_type": "code",
   "execution_count": 108,
   "id": "7fcab15c",
   "metadata": {},
   "outputs": [],
   "source": [
    "x ='I am a python Developer'"
   ]
  },
  {
   "cell_type": "code",
   "execution_count": 109,
   "id": "b127d4e1",
   "metadata": {},
   "outputs": [
    {
     "data": {
      "text/plain": [
       "23"
      ]
     },
     "execution_count": 109,
     "metadata": {},
     "output_type": "execute_result"
    }
   ],
   "source": [
    "len(x)"
   ]
  },
  {
   "cell_type": "code",
   "execution_count": 113,
   "id": "bde9cb40",
   "metadata": {},
   "outputs": [
    {
     "data": {
      "text/plain": [
       "'python'"
      ]
     },
     "execution_count": 113,
     "metadata": {},
     "output_type": "execute_result"
    }
   ],
   "source": [
    "x[7:13]"
   ]
  },
  {
   "cell_type": "code",
   "execution_count": 117,
   "id": "5567de76",
   "metadata": {},
   "outputs": [
    {
     "data": {
      "text/plain": [
       "'Developer'"
      ]
     },
     "execution_count": 117,
     "metadata": {},
     "output_type": "execute_result"
    }
   ],
   "source": [
    "x[14:23]"
   ]
  },
  {
   "cell_type": "code",
   "execution_count": 118,
   "id": "12cba75a",
   "metadata": {},
   "outputs": [
    {
     "data": {
      "text/plain": [
       "'python Developer'"
      ]
     },
     "execution_count": 118,
     "metadata": {},
     "output_type": "execute_result"
    }
   ],
   "source": [
    "x[7::] #7 paxi sapaai aauncha word haru"
   ]
  },
  {
   "cell_type": "code",
   "execution_count": 120,
   "id": "21e35cfa",
   "metadata": {},
   "outputs": [
    {
     "data": {
      "text/plain": [
       "'r'"
      ]
     },
     "execution_count": 120,
     "metadata": {},
     "output_type": "execute_result"
    }
   ],
   "source": [
    "x[-1] #last bata counting hudai aauncha "
   ]
  },
  {
   "cell_type": "code",
   "execution_count": 122,
   "id": "c5432654",
   "metadata": {},
   "outputs": [
    {
     "data": {
      "text/plain": [
       "'velope'"
      ]
     },
     "execution_count": 122,
     "metadata": {},
     "output_type": "execute_result"
    }
   ],
   "source": [
    "x[-7:-1]"
   ]
  },
  {
   "cell_type": "code",
   "execution_count": 123,
   "id": "78b3aa7d",
   "metadata": {},
   "outputs": [
    {
     "data": {
      "text/plain": [
       "'repoleveD nohtyp a ma I'"
      ]
     },
     "execution_count": 123,
     "metadata": {},
     "output_type": "execute_result"
    }
   ],
   "source": [
    "x[::-1] #reverse bhayo "
   ]
  },
  {
   "cell_type": "code",
   "execution_count": 124,
   "id": "c5c77812",
   "metadata": {},
   "outputs": [
    {
     "data": {
      "text/plain": [
       "'p'"
      ]
     },
     "execution_count": 124,
     "metadata": {},
     "output_type": "execute_result"
    }
   ],
   "source": [
    "x[7]"
   ]
  },
  {
   "cell_type": "code",
   "execution_count": 125,
   "id": "1605404a",
   "metadata": {},
   "outputs": [],
   "source": [
    "b='I am sanskriti Malla'"
   ]
  },
  {
   "cell_type": "code",
   "execution_count": 126,
   "id": "9c2c3cec",
   "metadata": {},
   "outputs": [
    {
     "data": {
      "text/plain": [
       "20"
      ]
     },
     "execution_count": 126,
     "metadata": {},
     "output_type": "execute_result"
    }
   ],
   "source": [
    "len(b)"
   ]
  },
  {
   "cell_type": "code",
   "execution_count": 127,
   "id": "47da6149",
   "metadata": {},
   "outputs": [
    {
     "data": {
      "text/plain": [
       "'allaM itirksnas ma I'"
      ]
     },
     "execution_count": 127,
     "metadata": {},
     "output_type": "execute_result"
    }
   ],
   "source": [
    "b[::-1]"
   ]
  },
  {
   "cell_type": "code",
   "execution_count": 128,
   "id": "5e15a760",
   "metadata": {},
   "outputs": [],
   "source": [
    "y=b.split()"
   ]
  },
  {
   "cell_type": "code",
   "execution_count": 129,
   "id": "ec6c2910",
   "metadata": {},
   "outputs": [
    {
     "data": {
      "text/plain": [
       "['I', 'am', 'sanskriti', 'Malla']"
      ]
     },
     "execution_count": 129,
     "metadata": {},
     "output_type": "execute_result"
    }
   ],
   "source": [
    "y"
   ]
  },
  {
   "cell_type": "code",
   "execution_count": 131,
   "id": "118d06cf",
   "metadata": {},
   "outputs": [],
   "source": [
    "a= 'I/am/a/python/Developer' #list bhanincha "
   ]
  },
  {
   "cell_type": "code",
   "execution_count": 134,
   "id": "5bdec7f4",
   "metadata": {},
   "outputs": [],
   "source": [
    "h=a.split('/') # agruement ('/') gareyo bhane separate vayera aauncha "
   ]
  },
  {
   "cell_type": "code",
   "execution_count": 137,
   "id": "8645cca2",
   "metadata": {},
   "outputs": [
    {
     "data": {
      "text/plain": [
       "['I', 'am', 'a', 'python', 'Developer']"
      ]
     },
     "execution_count": 137,
     "metadata": {},
     "output_type": "execute_result"
    }
   ],
   "source": [
    "h"
   ]
  },
  {
   "cell_type": "code",
   "execution_count": 138,
   "id": "b0920fc2",
   "metadata": {},
   "outputs": [
    {
     "data": {
      "text/plain": [
       "'I am a python developer'"
      ]
     },
     "execution_count": 138,
     "metadata": {},
     "output_type": "execute_result"
    }
   ],
   "source": [
    "x.capitalize()"
   ]
  },
  {
   "cell_type": "code",
   "execution_count": 139,
   "id": "5911fdca",
   "metadata": {},
   "outputs": [
    {
     "data": {
      "text/plain": [
       "'i am a python developer'"
      ]
     },
     "execution_count": 139,
     "metadata": {},
     "output_type": "execute_result"
    }
   ],
   "source": [
    "x.casefold()"
   ]
  },
  {
   "cell_type": "code",
   "execution_count": 146,
   "id": "0aa832d7",
   "metadata": {},
   "outputs": [
    {
     "data": {
      "text/plain": [
       "3"
      ]
     },
     "execution_count": 146,
     "metadata": {},
     "output_type": "execute_result"
    }
   ],
   "source": [
    "x.count('e')"
   ]
  },
  {
   "cell_type": "code",
   "execution_count": 149,
   "id": "7a690525",
   "metadata": {},
   "outputs": [
    {
     "data": {
      "text/plain": [
       "['I', 'am', 'a', 'python', 'Developer']"
      ]
     },
     "execution_count": 149,
     "metadata": {},
     "output_type": "execute_result"
    }
   ],
   "source": [
    "x.split()"
   ]
  },
  {
   "cell_type": "code",
   "execution_count": 152,
   "id": "a10fd23a",
   "metadata": {},
   "outputs": [
    {
     "data": {
      "text/plain": [
       "-1"
      ]
     },
     "execution_count": 152,
     "metadata": {},
     "output_type": "execute_result"
    }
   ],
   "source": [
    "x.find('6')"
   ]
  },
  {
   "cell_type": "code",
   "execution_count": 159,
   "id": "b8c63516",
   "metadata": {},
   "outputs": [
    {
     "data": {
      "text/plain": [
       "'I am a python Developer'"
      ]
     },
     "execution_count": 159,
     "metadata": {},
     "output_type": "execute_result"
    }
   ],
   "source": [
    "x.format_map(\"5\")"
   ]
  },
  {
   "cell_type": "code",
   "execution_count": 160,
   "id": "d2e0c16f",
   "metadata": {},
   "outputs": [
    {
     "data": {
      "text/plain": [
       "False"
      ]
     },
     "execution_count": 160,
     "metadata": {},
     "output_type": "execute_result"
    }
   ],
   "source": [
    "x.isupper()"
   ]
  },
  {
   "cell_type": "code",
   "execution_count": 167,
   "id": "62910b09",
   "metadata": {},
   "outputs": [
    {
     "data": {
      "text/plain": [
       "False"
      ]
     },
     "execution_count": 167,
     "metadata": {},
     "output_type": "execute_result"
    }
   ],
   "source": [
    "x.isspace()"
   ]
  },
  {
   "cell_type": "code",
   "execution_count": 168,
   "id": "3fb847ec",
   "metadata": {},
   "outputs": [
    {
     "data": {
      "text/plain": [
       "'I AM A PYTHON DEVELOPER'"
      ]
     },
     "execution_count": 168,
     "metadata": {},
     "output_type": "execute_result"
    }
   ],
   "source": [
    "x.upper()"
   ]
  },
  {
   "cell_type": "code",
   "execution_count": 170,
   "id": "44ef5813",
   "metadata": {},
   "outputs": [
    {
     "data": {
      "text/plain": [
       "'I am a python Developer'"
      ]
     },
     "execution_count": 170,
     "metadata": {},
     "output_type": "execute_result"
    }
   ],
   "source": [
    "x.translate('7')"
   ]
  },
  {
   "cell_type": "code",
   "execution_count": 172,
   "id": "ca0beebc",
   "metadata": {},
   "outputs": [
    {
     "data": {
      "text/plain": [
       "'6'"
      ]
     },
     "execution_count": 172,
     "metadata": {},
     "output_type": "execute_result"
    }
   ],
   "source": [
    "x.join('6')"
   ]
  },
  {
   "cell_type": "code",
   "execution_count": 180,
   "id": "b22e3408",
   "metadata": {},
   "outputs": [
    {
     "data": {
      "text/plain": [
       "'   I am a python Developer    '"
      ]
     },
     "execution_count": 180,
     "metadata": {},
     "output_type": "execute_result"
    }
   ],
   "source": [
    "x.center(30) #spacing "
   ]
  },
  {
   "cell_type": "code",
   "execution_count": 181,
   "id": "ed0da3d6",
   "metadata": {},
   "outputs": [
    {
     "data": {
      "text/plain": [
       "False"
      ]
     },
     "execution_count": 181,
     "metadata": {},
     "output_type": "execute_result"
    }
   ],
   "source": [
    "x.isalpha()"
   ]
  },
  {
   "cell_type": "code",
   "execution_count": 182,
   "id": "8bb3a7c5",
   "metadata": {},
   "outputs": [],
   "source": []
  },
  {
   "cell_type": "code",
   "execution_count": null,
   "id": "43208a7e",
   "metadata": {},
   "outputs": [],
   "source": []
  }
 ],
 "metadata": {
  "kernelspec": {
   "display_name": "Python 3 (ipykernel)",
   "language": "python",
   "name": "python3"
  },
  "language_info": {
   "codemirror_mode": {
    "name": "ipython",
    "version": 3
   },
   "file_extension": ".py",
   "mimetype": "text/x-python",
   "name": "python",
   "nbconvert_exporter": "python",
   "pygments_lexer": "ipython3",
   "version": "3.11.1"
  }
 },
 "nbformat": 4,
 "nbformat_minor": 5
}
