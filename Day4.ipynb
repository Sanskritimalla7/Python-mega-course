{
 "cells": [
  {
   "cell_type": "markdown",
   "id": "379be502",
   "metadata": {},
   "source": [
    "# List\n"
   ]
  },
  {
   "cell_type": "code",
   "execution_count": 54,
   "id": "077708cd",
   "metadata": {},
   "outputs": [],
   "source": [
    "lst=[1,2,3, 'Hi',2.633333, 'Sanskriti' , 'hexcode']"
   ]
  },
  {
   "cell_type": "code",
   "execution_count": 2,
   "id": "50fdf94b",
   "metadata": {},
   "outputs": [
    {
     "data": {
      "text/plain": [
       "list"
      ]
     },
     "execution_count": 2,
     "metadata": {},
     "output_type": "execute_result"
    }
   ],
   "source": [
    "type(lst)"
   ]
  },
  {
   "cell_type": "code",
   "execution_count": 3,
   "id": "2d4f7d18",
   "metadata": {},
   "outputs": [
    {
     "data": {
      "text/plain": [
       "3"
      ]
     },
     "execution_count": 3,
     "metadata": {},
     "output_type": "execute_result"
    }
   ],
   "source": [
    "lst[2]"
   ]
  },
  {
   "cell_type": "code",
   "execution_count": 4,
   "id": "18b8e57b",
   "metadata": {},
   "outputs": [
    {
     "data": {
      "text/plain": [
       "int"
      ]
     },
     "execution_count": 4,
     "metadata": {},
     "output_type": "execute_result"
    }
   ],
   "source": [
    "type(lst[2])"
   ]
  },
  {
   "cell_type": "code",
   "execution_count": 5,
   "id": "63bc67cc",
   "metadata": {},
   "outputs": [],
   "source": [
    "list=['Sanskriti hexcode']"
   ]
  },
  {
   "cell_type": "code",
   "execution_count": 6,
   "id": "d3934b98",
   "metadata": {},
   "outputs": [
    {
     "data": {
      "text/plain": [
       "['Sanskriti hexcode']"
      ]
     },
     "execution_count": 6,
     "metadata": {},
     "output_type": "execute_result"
    }
   ],
   "source": [
    "list"
   ]
  },
  {
   "cell_type": "code",
   "execution_count": 7,
   "id": "ee90bdfb",
   "metadata": {},
   "outputs": [
    {
     "data": {
      "text/plain": [
       "'Sanskriti hexcode'"
      ]
     },
     "execution_count": 7,
     "metadata": {},
     "output_type": "execute_result"
    }
   ],
   "source": [
    "lst[5]+' '+lst[6] #add two elements"
   ]
  },
  {
   "cell_type": "code",
   "execution_count": 8,
   "id": "b4a46d1c",
   "metadata": {},
   "outputs": [
    {
     "data": {
      "text/plain": [
       "7"
      ]
     },
     "execution_count": 8,
     "metadata": {},
     "output_type": "execute_result"
    }
   ],
   "source": [
    "len(lst)"
   ]
  },
  {
   "cell_type": "code",
   "execution_count": 9,
   "id": "8e204802",
   "metadata": {},
   "outputs": [
    {
     "data": {
      "text/plain": [
       "[3, 'Hi', 2.633333, 'Sanskriti']"
      ]
     },
     "execution_count": 9,
     "metadata": {},
     "output_type": "execute_result"
    }
   ],
   "source": [
    "lst[2:6]"
   ]
  },
  {
   "cell_type": "code",
   "execution_count": 10,
   "id": "aa8b3894",
   "metadata": {},
   "outputs": [],
   "source": [
    "lst1=[]"
   ]
  },
  {
   "cell_type": "code",
   "execution_count": 11,
   "id": "31b67215",
   "metadata": {},
   "outputs": [],
   "source": [
    "lst1.append('hex')"
   ]
  },
  {
   "cell_type": "code",
   "execution_count": 12,
   "id": "75442b71",
   "metadata": {},
   "outputs": [
    {
     "data": {
      "text/plain": [
       "['hex']"
      ]
     },
     "execution_count": 12,
     "metadata": {},
     "output_type": "execute_result"
    }
   ],
   "source": [
    "lst1"
   ]
  },
  {
   "cell_type": "code",
   "execution_count": 13,
   "id": "0eff3d64",
   "metadata": {},
   "outputs": [],
   "source": [
    "lst1.append(1)"
   ]
  },
  {
   "cell_type": "code",
   "execution_count": 14,
   "id": "4bb5d8aa",
   "metadata": {},
   "outputs": [
    {
     "data": {
      "text/plain": [
       "['hex', 1]"
      ]
     },
     "execution_count": 14,
     "metadata": {},
     "output_type": "execute_result"
    }
   ],
   "source": [
    "lst1"
   ]
  },
  {
   "cell_type": "code",
   "execution_count": 15,
   "id": "a99c9cac",
   "metadata": {},
   "outputs": [],
   "source": [
    "lst1.append('Nepal')"
   ]
  },
  {
   "cell_type": "code",
   "execution_count": 16,
   "id": "04dae60a",
   "metadata": {},
   "outputs": [],
   "source": [
    "lst1.append('Sanskriti')"
   ]
  },
  {
   "cell_type": "code",
   "execution_count": 18,
   "id": "821573aa",
   "metadata": {},
   "outputs": [],
   "source": [
    "lst1.append('python')"
   ]
  },
  {
   "cell_type": "code",
   "execution_count": 19,
   "id": "ae020e8a",
   "metadata": {},
   "outputs": [
    {
     "data": {
      "text/plain": [
       "['hex', 1, 'Nepal', 'Sanskriti', 'python']"
      ]
     },
     "execution_count": 19,
     "metadata": {},
     "output_type": "execute_result"
    }
   ],
   "source": [
    "lst1"
   ]
  },
  {
   "cell_type": "code",
   "execution_count": 21,
   "id": "b7d5c857",
   "metadata": {},
   "outputs": [],
   "source": [
    "lst1.insert(1,'code')"
   ]
  },
  {
   "cell_type": "code",
   "execution_count": 22,
   "id": "fc9b44f1",
   "metadata": {},
   "outputs": [
    {
     "data": {
      "text/plain": [
       "['hex', 'code', 1, 'Nepal', 'Sanskriti', 'python']"
      ]
     },
     "execution_count": 22,
     "metadata": {},
     "output_type": "execute_result"
    }
   ],
   "source": [
    "lst1"
   ]
  },
  {
   "cell_type": "code",
   "execution_count": 23,
   "id": "33d98114",
   "metadata": {},
   "outputs": [],
   "source": [
    "lst1[1]= 'Academy'  #change elements"
   ]
  },
  {
   "cell_type": "code",
   "execution_count": 24,
   "id": "bd324e23",
   "metadata": {},
   "outputs": [
    {
     "data": {
      "text/plain": [
       "['hex', 'Academy', 1, 'Nepal', 'Sanskriti', 'python']"
      ]
     },
     "execution_count": 24,
     "metadata": {},
     "output_type": "execute_result"
    }
   ],
   "source": [
    "lst1"
   ]
  },
  {
   "cell_type": "code",
   "execution_count": 25,
   "id": "5176d455",
   "metadata": {},
   "outputs": [],
   "source": [
    "lst1[1:6]=['code', 'yes', '2', 'Canada']"
   ]
  },
  {
   "cell_type": "code",
   "execution_count": 26,
   "id": "e9a650d0",
   "metadata": {},
   "outputs": [
    {
     "data": {
      "text/plain": [
       "['hex', 'code', 'yes', '2', 'Canada']"
      ]
     },
     "execution_count": 26,
     "metadata": {},
     "output_type": "execute_result"
    }
   ],
   "source": [
    "lst1"
   ]
  },
  {
   "cell_type": "code",
   "execution_count": 28,
   "id": "53746722",
   "metadata": {},
   "outputs": [],
   "source": [
    "lst1.remove('Canada')"
   ]
  },
  {
   "cell_type": "code",
   "execution_count": 30,
   "id": "32df26c8",
   "metadata": {},
   "outputs": [
    {
     "data": {
      "text/plain": [
       "['hex', 'code', 'yes', '2']"
      ]
     },
     "execution_count": 30,
     "metadata": {},
     "output_type": "execute_result"
    }
   ],
   "source": [
    "lst1"
   ]
  },
  {
   "cell_type": "code",
   "execution_count": 49,
   "id": "ecf014e3",
   "metadata": {},
   "outputs": [],
   "source": [
    "lst.clear()"
   ]
  },
  {
   "cell_type": "code",
   "execution_count": 50,
   "id": "fe3beee4",
   "metadata": {},
   "outputs": [
    {
     "data": {
      "text/plain": [
       "[]"
      ]
     },
     "execution_count": 50,
     "metadata": {},
     "output_type": "execute_result"
    }
   ],
   "source": [
    "lst"
   ]
  },
  {
   "cell_type": "code",
   "execution_count": 55,
   "id": "2a9300e3",
   "metadata": {},
   "outputs": [
    {
     "data": {
      "text/plain": [
       "[]"
      ]
     },
     "execution_count": 55,
     "metadata": {},
     "output_type": "execute_result"
    }
   ],
   "source": [
    "lst1"
   ]
  },
  {
   "cell_type": "code",
   "execution_count": null,
   "id": "24b67304",
   "metadata": {},
   "outputs": [],
   "source": []
  },
  {
   "cell_type": "code",
   "execution_count": null,
   "id": "14f253ae",
   "metadata": {},
   "outputs": [],
   "source": []
  },
  {
   "cell_type": "markdown",
   "id": "f4ed4116",
   "metadata": {},
   "source": [
    "# Dictionary\n"
   ]
  },
  {
   "cell_type": "code",
   "execution_count": 59,
   "id": "6378fa38",
   "metadata": {},
   "outputs": [],
   "source": [
    "info={'Name': 'Sankriti Malla', 'RollNo':'036', 'college':'Medhavi', 'programme':'BCIS', 'Semester':'3'}"
   ]
  },
  {
   "cell_type": "code",
   "execution_count": 60,
   "id": "36923d7e",
   "metadata": {},
   "outputs": [
    {
     "data": {
      "text/plain": [
       "{'Name': 'Sankriti Malla',\n",
       " 'RollNo': '036',\n",
       " 'college': 'Medhavi',\n",
       " 'programme': 'BCIS',\n",
       " 'Semester': '3'}"
      ]
     },
     "execution_count": 60,
     "metadata": {},
     "output_type": "execute_result"
    }
   ],
   "source": [
    "info"
   ]
  },
  {
   "cell_type": "code",
   "execution_count": 61,
   "id": "048d052b",
   "metadata": {},
   "outputs": [
    {
     "data": {
      "text/plain": [
       "dict_keys(['Name', 'RollNo', 'college', 'programme', 'Semester'])"
      ]
     },
     "execution_count": 61,
     "metadata": {},
     "output_type": "execute_result"
    }
   ],
   "source": [
    "info.keys()"
   ]
  },
  {
   "cell_type": "code",
   "execution_count": 62,
   "id": "7b14772e",
   "metadata": {},
   "outputs": [
    {
     "data": {
      "text/plain": [
       "'Medhavi'"
      ]
     },
     "execution_count": 62,
     "metadata": {},
     "output_type": "execute_result"
    }
   ],
   "source": [
    "info['college']"
   ]
  },
  {
   "cell_type": "code",
   "execution_count": 67,
   "id": "6a916c68",
   "metadata": {},
   "outputs": [],
   "source": [
    " info['college']='holyland' #change the name of values"
   ]
  },
  {
   "cell_type": "code",
   "execution_count": 68,
   "id": "ca5e2d37",
   "metadata": {},
   "outputs": [
    {
     "data": {
      "text/plain": [
       "{'Name': 'Sankriti Malla',\n",
       " 'RollNo': '036',\n",
       " 'college': 'holyland',\n",
       " 'programme': 'BCIS',\n",
       " 'Semester': '3'}"
      ]
     },
     "execution_count": 68,
     "metadata": {},
     "output_type": "execute_result"
    }
   ],
   "source": [
    "info"
   ]
  },
  {
   "cell_type": "code",
   "execution_count": 69,
   "id": "9a9e459b",
   "metadata": {},
   "outputs": [
    {
     "data": {
      "text/plain": [
       "dict_values(['Sankriti Malla', '036', 'holyland', 'BCIS', '3'])"
      ]
     },
     "execution_count": 69,
     "metadata": {},
     "output_type": "execute_result"
    }
   ],
   "source": [
    "info.values() #shows the input values "
   ]
  },
  {
   "cell_type": "code",
   "execution_count": 72,
   "id": "d0f53eba",
   "metadata": {},
   "outputs": [],
   "source": [
    "info['Remarks']='Topper' #Adding new value or keyword "
   ]
  },
  {
   "cell_type": "code",
   "execution_count": 73,
   "id": "2a1d2d68",
   "metadata": {},
   "outputs": [
    {
     "data": {
      "text/plain": [
       "{'Name': 'Sankriti Malla',\n",
       " 'RollNo': '036',\n",
       " 'college': 'holyland',\n",
       " 'programme': 'BCIS',\n",
       " 'Semester': '3',\n",
       " 'Remarks': 'Topper'}"
      ]
     },
     "execution_count": 73,
     "metadata": {},
     "output_type": "execute_result"
    }
   ],
   "source": [
    "info"
   ]
  },
  {
   "cell_type": "code",
   "execution_count": 74,
   "id": "373633e4",
   "metadata": {},
   "outputs": [
    {
     "data": {
      "text/plain": [
       "'Topper'"
      ]
     },
     "execution_count": 74,
     "metadata": {},
     "output_type": "execute_result"
    }
   ],
   "source": [
    "info.pop('Remarks') #remove the value or keyword"
   ]
  },
  {
   "cell_type": "code",
   "execution_count": 75,
   "id": "ff0e3c98",
   "metadata": {},
   "outputs": [
    {
     "data": {
      "text/plain": [
       "{'Name': 'Sankriti Malla',\n",
       " 'RollNo': '036',\n",
       " 'college': 'holyland',\n",
       " 'programme': 'BCIS',\n",
       " 'Semester': '3'}"
      ]
     },
     "execution_count": 75,
     "metadata": {},
     "output_type": "execute_result"
    }
   ],
   "source": [
    "info"
   ]
  },
  {
   "cell_type": "code",
   "execution_count": 76,
   "id": "58291a3c",
   "metadata": {},
   "outputs": [],
   "source": [
    "info['Result']= 'A'"
   ]
  },
  {
   "cell_type": "code",
   "execution_count": 77,
   "id": "49ff9cba",
   "metadata": {},
   "outputs": [
    {
     "data": {
      "text/plain": [
       "{'Name': 'Sankriti Malla',\n",
       " 'RollNo': '036',\n",
       " 'college': 'holyland',\n",
       " 'programme': 'BCIS',\n",
       " 'Semester': '3',\n",
       " 'Result': 'A'}"
      ]
     },
     "execution_count": 77,
     "metadata": {},
     "output_type": "execute_result"
    }
   ],
   "source": [
    "info"
   ]
  },
  {
   "cell_type": "code",
   "execution_count": 81,
   "id": "2ed8de80",
   "metadata": {},
   "outputs": [],
   "source": [
    "info.update({'Reg. No':'5666-000'})"
   ]
  },
  {
   "cell_type": "code",
   "execution_count": 82,
   "id": "48eba6cc",
   "metadata": {},
   "outputs": [
    {
     "data": {
      "text/plain": [
       "{'Name': 'Sankriti Malla',\n",
       " 'RollNo': '036',\n",
       " 'college': 'holyland',\n",
       " 'programme': 'BCIS',\n",
       " 'Semester': '3',\n",
       " 'Result': 'A',\n",
       " 'Reg. No': '5666-000'}"
      ]
     },
     "execution_count": 82,
     "metadata": {},
     "output_type": "execute_result"
    }
   ],
   "source": [
    "info"
   ]
  },
  {
   "cell_type": "code",
   "execution_count": 83,
   "id": "4eeb1727",
   "metadata": {},
   "outputs": [
    {
     "data": {
      "text/plain": [
       "'5666-000'"
      ]
     },
     "execution_count": 83,
     "metadata": {},
     "output_type": "execute_result"
    }
   ],
   "source": [
    "info.get('Reg. No')"
   ]
  },
  {
   "cell_type": "markdown",
   "id": "9199734c",
   "metadata": {},
   "source": [
    "# Tuples"
   ]
  },
  {
   "cell_type": "code",
   "execution_count": 2,
   "id": "995ccf24",
   "metadata": {},
   "outputs": [],
   "source": [
    "x=(1,1,1,2,3, 'Hi')"
   ]
  },
  {
   "cell_type": "code",
   "execution_count": null,
   "id": "9fcf4521",
   "metadata": {},
   "outputs": [],
   "source": []
  }
 ],
 "metadata": {
  "kernelspec": {
   "display_name": "Python 3 (ipykernel)",
   "language": "python",
   "name": "python3"
  },
  "language_info": {
   "codemirror_mode": {
    "name": "ipython",
    "version": 3
   },
   "file_extension": ".py",
   "mimetype": "text/x-python",
   "name": "python",
   "nbconvert_exporter": "python",
   "pygments_lexer": "ipython3",
   "version": "3.11.1"
  }
 },
 "nbformat": 4,
 "nbformat_minor": 5
}
